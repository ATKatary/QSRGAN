{
 "cells": [
  {
   "cell_type": "markdown",
   "metadata": {},
   "source": [
    "# SRGAN Testing"
   ]
  },
  {
   "cell_type": "markdown",
   "metadata": {},
   "source": [
    "### Imports ###"
   ]
  },
  {
   "cell_type": "code",
   "execution_count": null,
   "metadata": {},
   "outputs": [],
   "source": [
    "!mkdir implementation\n",
    "!git clone https://github.com/ATKatary/QSRGAN.git\n",
    "!mv /content/QSRGAN/networks/srgan/implementation /content "
   ]
  },
  {
   "cell_type": "code",
   "execution_count": 1,
   "metadata": {},
   "outputs": [
    {
     "name": "stdout",
     "output_type": "stream",
     "text": [
      "Computation device:  cpu\n"
     ]
    }
   ],
   "source": [
    "import h5py\n",
    "%matplotlib inline\n",
    "import matplotlib.image as mpimg\n",
    "from implementation.test import *\n",
    "from implementation.train import *\n",
    "from matplotlib import pyplot as plt\n",
    "from implementation.srcnn import SRCNN\n",
    "from implementation.data_utils import create_dataset\n",
    "from sklearn.model_selection import train_test_split\n",
    "\n",
    "home_dir = \"/content/implementation\"\n",
    "device = 'cuda' if torch.cuda.is_available() else 'cpu'\n",
    "print('Computation device: ', device)"
   ]
  },
  {
   "cell_type": "markdown",
   "metadata": {},
   "source": [
    "### Loading Pretrained Model"
   ]
  },
  {
   "cell_type": "code",
   "execution_count": null,
   "metadata": {},
   "outputs": [],
   "source": [
    "pretrained_weights = torch.load(f'{home_dir}/pretrained/ovsrcnn_5000.torch')\n",
    "model = SRCNN().initiate(device, pretrained_weights)\n",
    "image_path = None"
   ]
  },
  {
   "cell_type": "markdown",
   "metadata": {},
   "source": [
    "### Testing Image"
   ]
  },
  {
   "cell_type": "code",
   "execution_count": null,
   "metadata": {},
   "outputs": [],
   "source": [
    "before_image_path, after_image_path = test_image(model, device, home_dir, image_path=image_path)"
   ]
  },
  {
   "cell_type": "markdown",
   "metadata": {},
   "source": [
    "### Displaying Results"
   ]
  },
  {
   "cell_type": "code",
   "execution_count": null,
   "metadata": {},
   "outputs": [],
   "source": [
    "f, plot = plt.subplots(1, 2)\n",
    "before_image = mpimg.imread(before_image_path)\n",
    "after_image = mpimg.imread(after_image_path)\n",
    "print(f\"Before Size: {before_image.shape}\")\n",
    "print(f\"After Size: {after_image.shape}\")\n",
    "plot[0].imshow(before_image)\n",
    "plot[1].imshow(after_image)\n",
    "plt.show()"
   ]
  },
  {
   "cell_type": "markdown",
   "metadata": {},
   "source": [
    "### Testing Video"
   ]
  },
  {
   "cell_type": "code",
   "execution_count": null,
   "metadata": {},
   "outputs": [],
   "source": [
    "max_iters = 5\n",
    "video_path = f\"{home_dir}/inputs/vid1.mp4\""
   ]
  },
  {
   "cell_type": "code",
   "execution_count": null,
   "metadata": {},
   "outputs": [],
   "source": [
    "before_video_path, after_video_path = test_video(model, device, home_dir, video_path=video_path, max_iters=max_iters)"
   ]
  }
 ],
 "metadata": {
  "interpreter": {
   "hash": "cadefa720d1a2267f4d12d08d812560a64cfe891877bc388bf0e8af3e4846067"
  },
  "kernelspec": {
   "display_name": "",
   "language": "python",
   "name": "python3"
  },
  "language_info": {
   "codemirror_mode": {
    "name": "ipython",
    "version": 3
   },
   "file_extension": ".py",
   "mimetype": "text/x-python",
   "name": "python",
   "nbconvert_exporter": "python",
   "pygments_lexer": "ipython3",
   "version": "3.8.5"
  },
  "orig_nbformat": 4
 },
 "nbformat": 4,
 "nbformat_minor": 2
}
