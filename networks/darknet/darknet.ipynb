{
 "cells": [
  {
   "cell_type": "markdown",
   "metadata": {},
   "source": [
    "# Darknet"
   ]
  },
  {
   "cell_type": "markdown",
   "metadata": {},
   "source": [
    "### Setup"
   ]
  },
  {
   "cell_type": "code",
   "execution_count": null,
   "metadata": {},
   "outputs": [],
   "source": [
    "!mkdir implementation\n",
    "!git clone https://github.com/ATKatary/QSRGAN.git\n",
    "!mv /content/QSRGAN/networks/darknet/implementation /content \n",
    "\n",
    "!bash implementation/setup.sh "
   ]
  },
  {
   "cell_type": "markdown",
   "metadata": {},
   "source": [
    "### Imports"
   ]
  },
  {
   "cell_type": "code",
   "execution_count": null,
   "metadata": {},
   "outputs": [],
   "source": [
    "from implementation.main import segment"
   ]
  },
  {
   "cell_type": "markdown",
   "metadata": {},
   "source": [
    "### Train"
   ]
  },
  {
   "cell_type": "code",
   "execution_count": null,
   "metadata": {},
   "outputs": [],
   "source": [
    "!./darknet detector train data/obj.data cfg/yolov3-train.cfg darknet53.conv.74 -dont_show"
   ]
  },
  {
   "cell_type": "markdown",
   "metadata": {},
   "source": [
    "### Test"
   ]
  },
  {
   "cell_type": "code",
   "execution_count": null,
   "metadata": {},
   "outputs": [],
   "source": [
    "home_dir = \"/content/implementation\"\n",
    "\n",
    "img_path = None\n",
    "cfg_path = f\"{home_dir}???\"\n",
    "store_path = f\"{home_dir}/output/\"\n",
    "classes_path = f\"{home_dir}/pretrained/classes.txt\"\n",
    "weights_path = f\"{home_dir}/pretrained/weights/clp2000.weights\"\n",
    "\n",
    "segment(weights_path, cfg_path, classes_path, img_path, store_path)"
   ]
  }
 ],
 "metadata": {
  "language_info": {
   "name": "python"
  },
  "orig_nbformat": 4
 },
 "nbformat": 4,
 "nbformat_minor": 2
}
