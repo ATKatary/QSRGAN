{
 "cells": [
  {
   "cell_type": "markdown",
   "metadata": {},
   "source": [
    "# Darknet"
   ]
  },
  {
   "cell_type": "markdown",
   "metadata": {},
   "source": [
    "### Setup"
   ]
  },
  {
   "cell_type": "code",
   "execution_count": null,
   "metadata": {},
   "outputs": [],
   "source": [
    "!mkdir implementation\n",
    "!git clone https://github.com/ATKatary/QSRGAN.git\n",
    "!mv /content/QSRGAN/networks/darknet/implementation /content \n",
    "\n",
    "!bash implementation/setup.sh "
   ]
  },
  {
   "cell_type": "markdown",
   "metadata": {},
   "source": [
    "### Imports"
   ]
  },
  {
   "cell_type": "code",
   "execution_count": null,
   "metadata": {},
   "outputs": [],
   "source": [
    "from implementation.main import segment"
   ]
  },
  {
   "cell_type": "markdown",
   "metadata": {},
   "source": [
    "### Train"
   ]
  },
  {
   "cell_type": "code",
   "execution_count": null,
   "metadata": {},
   "outputs": [],
   "source": [
    "!./darknet detector train data/obj.data cfg/yolov3-train.cfg darknet53.conv.74 -dont_show"
   ]
  },
  {
   "cell_type": "markdown",
   "metadata": {},
   "source": [
    "### Test"
   ]
  },
  {
   "cell_type": "code",
   "execution_count": null,
   "metadata": {},
   "outputs": [],
   "source": [
    "cfg_path = \"/content/implementation/pretrained/testing.cfg\"\n",
    "img_path = \"/content/implementation/data/test/text_car9.jpg\"\n",
    "classes_path = \"/content/implementation/pretrained/classes.txt\"\n",
    "weights_path = \"/content/implementation/pretrained/weights/2000iters.weights\"\n",
    "\n",
    "segment(weights_path, cfg_path, classes_path, img_path)"
   ]
  }
 ],
 "metadata": {
  "language_info": {
   "name": "python"
  },
  "orig_nbformat": 4
 },
 "nbformat": 4,
 "nbformat_minor": 2
}
